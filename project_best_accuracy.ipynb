    {
      "cell_type": "code",
      "execution_count": 9,
      "metadata": {
        "colab": {
          "base_uri": "https://localhost:8080/"
        },
        "id": "NCJK1cBYXOVb",
        "outputId": "b0ea9162-9560-4c48-beac-cf7f6c84e9d0"
      },
      "outputs": [
        {
          "output_type": "stream",
          "name": "stdout",
          "text": [
            "Requirement already satisfied: tensorflow in /usr/local/lib/python3.11/dist-packages (2.18.0)\n",
            "Requirement already satisfied: absl-py>=1.0.0 in /usr/local/lib/python3.11/dist-packages (from tensorflow) (1.4.0)\n",
            "Requirement already satisfied: astunparse>=1.6.0 in /usr/local/lib/python3.11/dist-packages (from tensorflow) (1.6.3)\n",
            "Requirement already satisfied: flatbuffers>=24.3.25 in /usr/local/lib/python3.11/dist-packages (from tensorflow) (24.12.23)\n",
            "Requirement already satisfied: gast!=0.5.0,!=0.5.1,!=0.5.2,>=0.2.1 in /usr/local/lib/python3.11/dist-packages (from tensorflow) (0.6.0)\n",
            "Requirement already satisfied: google-pasta>=0.1.1 in /usr/local/lib/python3.11/dist-packages (from tensorflow) (0.2.0)\n",
            "Requirement already satisfied: libclang>=13.0.0 in /usr/local/lib/python3.11/dist-packages (from tensorflow) (18.1.1)\n",
            "Requirement already satisfied: opt-einsum>=2.3.2 in /usr/local/lib/python3.11/dist-packages (from tensorflow) (3.4.0)\n",
            "Requirement already satisfied: packaging in /usr/local/lib/python3.11/dist-packages (from tensorflow) (24.2)\n",
            "Requirement already satisfied: protobuf!=4.21.0,!=4.21.1,!=4.21.2,!=4.21.3,!=4.21.4,!=4.21.5,<6.0.0dev,>=3.20.3 in /usr/local/lib/python3.11/dist-packages (from tensorflow) (4.25.5)\n",
            "Requirement already satisfied: requests<3,>=2.21.0 in /usr/local/lib/python3.11/dist-packages (from tensorflow) (2.32.3)\n",
            "Requirement already satisfied: setuptools in /usr/local/lib/python3.11/dist-packages (from tensorflow) (75.1.0)\n",
            "Requirement already satisfied: six>=1.12.0 in /usr/local/lib/python3.11/dist-packages (from tensorflow) (1.17.0)\n",
            "Requirement already satisfied: termcolor>=1.1.0 in /usr/local/lib/python3.11/dist-packages (from tensorflow) (2.5.0)\n",
            "Requirement already satisfied: typing-extensions>=3.6.6 in /usr/local/lib/python3.11/dist-packages (from tensorflow) (4.12.2)\n",
            "Requirement already satisfied: wrapt>=1.11.0 in /usr/local/lib/python3.11/dist-packages (from tensorflow) (1.17.0)\n",
            "Requirement already satisfied: grpcio<2.0,>=1.24.3 in /usr/local/lib/python3.11/dist-packages (from tensorflow) (1.69.0)\n",
            "Requirement already satisfied: tensorboard<2.19,>=2.18 in /usr/local/lib/python3.11/dist-packages (from tensorflow) (2.18.0)\n",
            "Requirement already satisfied: keras>=3.5.0 in /usr/local/lib/python3.11/dist-packages (from tensorflow) (3.5.0)\n",
            "Requirement already satisfied: numpy<2.1.0,>=1.26.0 in /usr/local/lib/python3.11/dist-packages (from tensorflow) (1.26.4)\n",
            "Requirement already satisfied: h5py>=3.11.0 in /usr/local/lib/python3.11/dist-packages (from tensorflow) (3.12.1)\n",
            "Requirement already satisfied: ml-dtypes<0.5.0,>=0.4.0 in /usr/local/lib/python3.11/dist-packages (from tensorflow) (0.4.1)\n",
            "Requirement already satisfied: tensorflow-io-gcs-filesystem>=0.23.1 in /usr/local/lib/python3.11/dist-packages (from tensorflow) (0.37.1)\n",
            "Requirement already satisfied: wheel<1.0,>=0.23.0 in /usr/local/lib/python3.11/dist-packages (from astunparse>=1.6.0->tensorflow) (0.45.1)\n",
            "Requirement already satisfied: rich in /usr/local/lib/python3.11/dist-packages (from keras>=3.5.0->tensorflow) (13.9.4)\n",
            "Requirement already satisfied: namex in /usr/local/lib/python3.11/dist-packages (from keras>=3.5.0->tensorflow) (0.0.8)\n",
            "Requirement already satisfied: optree in /usr/local/lib/python3.11/dist-packages (from keras>=3.5.0->tensorflow) (0.13.1)\n",
            "Requirement already satisfied: charset-normalizer<4,>=2 in /usr/local/lib/python3.11/dist-packages (from requests<3,>=2.21.0->tensorflow) (3.4.1)\n",
            "Requirement already satisfied: idna<4,>=2.5 in /usr/local/lib/python3.11/dist-packages (from requests<3,>=2.21.0->tensorflow) (3.10)\n",
            "Requirement already satisfied: urllib3<3,>=1.21.1 in /usr/local/lib/python3.11/dist-packages (from requests<3,>=2.21.0->tensorflow) (2.3.0)\n",
            "Requirement already satisfied: certifi>=2017.4.17 in /usr/local/lib/python3.11/dist-packages (from requests<3,>=2.21.0->tensorflow) (2024.12.14)\n",
            "Requirement already satisfied: markdown>=2.6.8 in /usr/local/lib/python3.11/dist-packages (from tensorboard<2.19,>=2.18->tensorflow) (3.7)\n",
            "Requirement already satisfied: tensorboard-data-server<0.8.0,>=0.7.0 in /usr/local/lib/python3.11/dist-packages (from tensorboard<2.19,>=2.18->tensorflow) (0.7.2)\n",
            "Requirement already satisfied: werkzeug>=1.0.1 in /usr/local/lib/python3.11/dist-packages (from tensorboard<2.19,>=2.18->tensorflow) (3.1.3)\n",
            "Requirement already satisfied: MarkupSafe>=2.1.1 in /usr/local/lib/python3.11/dist-packages (from werkzeug>=1.0.1->tensorboard<2.19,>=2.18->tensorflow) (3.0.2)\n",
            "Requirement already satisfied: markdown-it-py>=2.2.0 in /usr/local/lib/python3.11/dist-packages (from rich->keras>=3.5.0->tensorflow) (3.0.0)\n",
            "Requirement already satisfied: pygments<3.0.0,>=2.13.0 in /usr/local/lib/python3.11/dist-packages (from rich->keras>=3.5.0->tensorflow) (2.19.1)\n",
            "Requirement already satisfied: mdurl~=0.1 in /usr/local/lib/python3.11/dist-packages (from markdown-it-py>=2.2.0->rich->keras>=3.5.0->tensorflow) (0.1.2)\n"
          ]
        }
      ],
      "source": [
        "!pip install --upgrade tensorflow\n"
      ]
    },
    {
      "cell_type": "code",
      "execution_count": 10,
      "metadata": {
        "id": "SlUniwmI0qj4"
      },
      "outputs": [],
      "source": [
        "#!mkdir /content/drive/MyDrive/extracted_folder"
      ]
    },
    {
      "cell_type": "code",
      "execution_count": 11,
      "metadata": {
        "collapsed": true,
        "id": "QhEc39nMxg-h"
      },
      "outputs": [],
      "source": [
        "#!unzip \"/content/drive/MyDrive/NFTlab/archive (1).zip\" -d \"/content/drive/MyDrive/extracted_folder\""
      ]
    },
    {
      "cell_type": "code",
      "execution_count": 12,
      "metadata": {
        "id": "vEsNKPRyXSP6"
      },
      "outputs": [],
      "source": [
        "import tensorflow as tf\n",
        "\n",
        "try:\n",
        "    tpu = tf.distribute.cluster_resolver.TPUClusterResolver()  # Detect TPU\n",
        "    tf.config.experimental_connect_to_cluster(tpu)\n",
        "    tf.tpu.experimental.initialize_tpu_system(tpu)\n",
        "    strategy = tf.distribute.TPUStrategy(tpu)\n",
        "except ValueError:\n",
        "    strategy = tf.distribute.get_strategy()  # Default strategy for CPU and single GPU\n"
      ]
    },
    {
      "cell_type": "code",
      "execution_count": 13,
      "metadata": {
        "colab": {
          "base_uri": "https://localhost:8080/"
        },
        "id": "IdkuvFrkXqZu",
        "outputId": "c55d69f9-3ae7-4abd-f1bf-71f21b3cada6"
      },
      "outputs": [
        {
          "output_type": "stream",
          "name": "stdout",
          "text": [
            "Drive already mounted at /content/drive; to attempt to forcibly remount, call drive.mount(\"/content/drive\", force_remount=True).\n"
          ]
        }
      ],
      "source": [
        "from google.colab import drive\n",
        "drive.mount('/content/drive')"
      ]
    },
    {
      "cell_type": "code",
      "execution_count": 14,
      "metadata": {
        "id": "slI4P9wNeQEu"
      },
      "outputs": [],
      "source": [
        "import numpy as np\n",
        "import pandas as pd\n",
        "import os\n",
        "import matplotlib.pyplot as plt\n",
        "import random\n",
        "import tensorflow as tf\n",
        "import keras\n",
        "\n",
        "\n"
      ]
    },
    {
      "cell_type": "code",
      "execution_count": 15,
      "metadata": {
        "id": "LX3GVgYGKJSF"
      },
      "outputs": [],
      "source": [
        "import matplotlib.pyplot as plt\n",
        "import numpy as np\n",
        "from tensorflow.keras.applications import ResNet50\n",
        "from tensorflow.keras.models import Sequential\n",
        "from tensorflow.keras.layers import Dense, Flatten, Dropout, BatchNormalization\n",
        "from tensorflow.keras.regularizers import l2\n",
        "from tensorflow.keras.callbacks import LearningRateScheduler, EarlyStopping, ModelCheckpoint\n",
        "from tensorflow.keras.optimizers.schedules import CosineDecay\n",
        "from tensorflow.keras.optimizers import Adam\n",
        "from tensorflow.keras.preprocessing.image import ImageDataGenerator\n",
        "from sklearn.utils.class_weight import compute_class_weight\n",
        "import tensorflow as tf\n"
      ]
    },
    {
      "cell_type": "code",
      "execution_count": 16,
      "metadata": {
        "colab": {
          "base_uri": "https://localhost:8080/"
        },
        "id": "I-LgJ3UKeayc",
        "outputId": "a8dab4f6-1e62-4bcd-f30c-d12934996d06"
      },
      "outputs": [
        {
          "output_type": "stream",
          "name": "stdout",
          "text": [
            "Requirement already satisfied: keras in /usr/local/lib/python3.11/dist-packages (3.5.0)\n",
            "Requirement already satisfied: absl-py in /usr/local/lib/python3.11/dist-packages (from keras) (1.4.0)\n",
            "Requirement already satisfied: numpy in /usr/local/lib/python3.11/dist-packages (from keras) (1.26.4)\n",
            "Requirement already satisfied: rich in /usr/local/lib/python3.11/dist-packages (from keras) (13.9.4)\n",
            "Requirement already satisfied: namex in /usr/local/lib/python3.11/dist-packages (from keras) (0.0.8)\n",
            "Requirement already satisfied: h5py in /usr/local/lib/python3.11/dist-packages (from keras) (3.12.1)\n",
            "Requirement already satisfied: optree in /usr/local/lib/python3.11/dist-packages (from keras) (0.13.1)\n",
            "Requirement already satisfied: ml-dtypes in /usr/local/lib/python3.11/dist-packages (from keras) (0.4.1)\n",
            "Requirement already satisfied: packaging in /usr/local/lib/python3.11/dist-packages (from keras) (24.2)\n",
            "Requirement already satisfied: typing-extensions>=4.5.0 in /usr/local/lib/python3.11/dist-packages (from optree->keras) (4.12.2)\n",
            "Requirement already satisfied: markdown-it-py>=2.2.0 in /usr/local/lib/python3.11/dist-packages (from rich->keras) (3.0.0)\n",
            "Requirement already satisfied: pygments<3.0.0,>=2.13.0 in /usr/local/lib/python3.11/dist-packages (from rich->keras) (2.19.1)\n",
            "Requirement already satisfied: mdurl~=0.1 in /usr/local/lib/python3.11/dist-packages (from markdown-it-py>=2.2.0->rich->keras) (0.1.2)\n"
          ]
        }
      ],
      "source": [
        "\n",
        "\n",
        "\n",
        "import matplotlib.pyplot as plt\n",
        "# Fixed for our fake and real image classes\n",
        "NUM_CLASSES = 2\n",
        "\n",
        "# Fixed for our fake and real image classes\n",
        "CHANNELS = 3\n",
        "\n",
        "IMAGE_RESIZE = 224\n",
        "RESNET50_POOLING_AVERAGE = 'avg'\n",
        "DENSE_LAYER_ACTIVATION = 'sigmoid'\n",
        "OBJECTIVE_FUNCTION = 'binary_crossentropy'\n",
        "\n",
        "# Common accuracy metric for all outputs, but can use different metrics for different output\n",
        "LOSS_METRICS = ['accuracy']\n",
        "\n",
        "# EARLY_STOP_PATIENCE must be < NUM_EPOCHS\n",
        "NUM_EPOCHS = 12\n",
        "EARLY_STOP_PATIENCE = 10\n",
        "\n",
        "# These steps value should be proper FACTOR of no.-of-images in train & valid folders respectively\n",
        "# Training images processed in each step would be no.-of-train-images / STEPS_PER_EPOCH_TRAINING\n",
        "\n",
        "\n",
        "# These steps value should be proper FACTOR of no.-of-images in train & valid folders respectively\n",
        "# NOTE that these BATCH* are for Keras ImageDataGenerator batching to fill epoch step input\n",
        "\n",
        "BATCH_SIZE_TRAINING = 128\n",
        "BATCH_SIZE_VALIDATION = 100\n",
        "BATCH_SIZE_TESTING = 1\n",
        "\n",
        "# Using 1 to easily manage mapping between test_generator & prediction for submission preparation\n",
        "\n",
        "from tensorflow.keras.applications import ResNet50\n",
        "from tensorflow.keras.models import Sequential\n",
        "from tensorflow.keras.layers import Dense, Flatten\n",
        "from tensorflow.keras.callbacks import LearningRateScheduler, EarlyStopping, ModelCheckpoint\n",
        "from tensorflow.keras.preprocessing.image import ImageDataGenerator\n",
        "from sklearn.model_selection import train_test_split\n",
        "\n",
        "!pip install keras\n"
      ]
    },
    {
      "cell_type": "code",
      "execution_count": 17,
      "metadata": {
        "id": "GA1kyoNCHUig"
      },
      "outputs": [],
      "source": [
        "from tensorflow.keras.optimizers.schedules import CosineDecay\n",
        "\n",
        "initial_learning_rate = 0.00005\n",
        "decay_steps = 626 * 12  # Total number of training steps\n",
        "alpha = 0.1  # Minimum learning rate value as a fraction of initial_learning_rate\n",
        "\n",
        "lr_schedule = CosineDecay(\n",
        "    initial_learning_rate=initial_learning_rate,\n",
        "    decay_steps=decay_steps,\n",
        "    alpha=alpha\n",
        ")\n",
        "\n"
      ]
    },
    {
      "cell_type": "code",
      "execution_count": 18,
      "metadata": {
        "id": "bV8pW_LLHa-b"
      },
      "outputs": [],
      "source": [
        "optimizer = Adam(learning_rate=lr_schedule)\n"
      ]
    },
    {
      "cell_type": "code",
      "execution_count": 19,
      "metadata": {
        "colab": {
          "base_uri": "https://localhost:8080/",
          "height": 518
        },
        "id": "GXvvZPv8obzh",
        "outputId": "a741a2f5-74e0-4dbf-816b-d24e4aeeda4b"
      },
      "outputs": [
        {
          "output_type": "stream",
          "name": "stdout",
          "text": [
            "Downloading data from https://storage.googleapis.com/tensorflow/keras-applications/resnet/resnet50_weights_tf_dim_ordering_tf_kernels_notop.h5\n",
            "\u001b[1m94765736/94765736\u001b[0m \u001b[32m━━━━━━━━━━━━━━━━━━━━\u001b[0m\u001b[37m\u001b[0m \u001b[1m0s\u001b[0m 0us/step\n"
          ]
        },
        {
          "output_type": "display_data",
          "data": {
            "text/plain": [
              "\u001b[1mModel: \"sequential\"\u001b[0m\n"
            ],
            "text/html": [
              "<pre style=\"white-space:pre;overflow-x:auto;line-height:normal;font-family:Menlo,'DejaVu Sans Mono',consolas,'Courier New',monospace\"><span style=\"font-weight: bold\">Model: \"sequential\"</span>\n",
              "</pre>\n"
            ]
          },
          "metadata": {}
        },
        {
          "output_type": "display_data",
          "data": {
            "text/plain": [
              "┏━━━━━━━━━━━━━━━━━━━━━━━━━━━━━━━━━━━━━━┳━━━━━━━━━━━━━━━━━━━━━━━━━━━━━┳━━━━━━━━━━━━━━━━━┓\n",
              "┃\u001b[1m \u001b[0m\u001b[1mLayer (type)                        \u001b[0m\u001b[1m \u001b[0m┃\u001b[1m \u001b[0m\u001b[1mOutput Shape               \u001b[0m\u001b[1m \u001b[0m┃\u001b[1m \u001b[0m\u001b[1m        Param #\u001b[0m\u001b[1m \u001b[0m┃\n",
              "┡━━━━━━━━━━━━━━━━━━━━━━━━━━━━━━━━━━━━━━╇━━━━━━━━━━━━━━━━━━━━━━━━━━━━━╇━━━━━━━━━━━━━━━━━┩\n",
              "│ resnet50 (\u001b[38;5;33mFunctional\u001b[0m)                │ (\u001b[38;5;45mNone\u001b[0m, \u001b[38;5;34m2048\u001b[0m)                │      \u001b[38;5;34m23,587,712\u001b[0m │\n",
              "├──────────────────────────────────────┼─────────────────────────────┼─────────────────┤\n",
              "│ flatten (\u001b[38;5;33mFlatten\u001b[0m)                    │ (\u001b[38;5;45mNone\u001b[0m, \u001b[38;5;34m2048\u001b[0m)                │               \u001b[38;5;34m0\u001b[0m │\n",
              "├──────────────────────────────────────┼─────────────────────────────┼─────────────────┤\n",
              "│ dense (\u001b[38;5;33mDense\u001b[0m)                        │ (\u001b[38;5;45mNone\u001b[0m, \u001b[38;5;34m256\u001b[0m)                 │         \u001b[38;5;34m524,544\u001b[0m │\n",
              "├──────────────────────────────────────┼─────────────────────────────┼─────────────────┤\n",
              "│ batch_normalization                  │ (\u001b[38;5;45mNone\u001b[0m, \u001b[38;5;34m256\u001b[0m)                 │           \u001b[38;5;34m1,024\u001b[0m │\n",
              "│ (\u001b[38;5;33mBatchNormalization\u001b[0m)                 │                             │                 │\n",
              "├──────────────────────────────────────┼─────────────────────────────┼─────────────────┤\n",
              "│ dropout (\u001b[38;5;33mDropout\u001b[0m)                    │ (\u001b[38;5;45mNone\u001b[0m, \u001b[38;5;34m256\u001b[0m)                 │               \u001b[38;5;34m0\u001b[0m │\n",
              "├──────────────────────────────────────┼─────────────────────────────┼─────────────────┤\n",
              "│ dense_1 (\u001b[38;5;33mDense\u001b[0m)                      │ (\u001b[38;5;45mNone\u001b[0m, \u001b[38;5;34m128\u001b[0m)                 │          \u001b[38;5;34m32,896\u001b[0m │\n",
              "├──────────────────────────────────────┼─────────────────────────────┼─────────────────┤\n",
              "│ batch_normalization_1                │ (\u001b[38;5;45mNone\u001b[0m, \u001b[38;5;34m128\u001b[0m)                 │             \u001b[38;5;34m512\u001b[0m │\n",
              "│ (\u001b[38;5;33mBatchNormalization\u001b[0m)                 │                             │                 │\n",
              "├──────────────────────────────────────┼─────────────────────────────┼─────────────────┤\n",
              "│ dropout_1 (\u001b[38;5;33mDropout\u001b[0m)                  │ (\u001b[38;5;45mNone\u001b[0m, \u001b[38;5;34m128\u001b[0m)                 │               \u001b[38;5;34m0\u001b[0m │\n",
              "├──────────────────────────────────────┼─────────────────────────────┼─────────────────┤\n",
              "│ dense_2 (\u001b[38;5;33mDense\u001b[0m)                      │ (\u001b[38;5;45mNone\u001b[0m, \u001b[38;5;34m1\u001b[0m)                   │             \u001b[38;5;34m129\u001b[0m │\n",
              "└──────────────────────────────────────┴─────────────────────────────┴─────────────────┘\n"
            ],
            "text/html": [
              "<pre style=\"white-space:pre;overflow-x:auto;line-height:normal;font-family:Menlo,'DejaVu Sans Mono',consolas,'Courier New',monospace\">┏━━━━━━━━━━━━━━━━━━━━━━━━━━━━━━━━━━━━━━┳━━━━━━━━━━━━━━━━━━━━━━━━━━━━━┳━━━━━━━━━━━━━━━━━┓\n",
              "┃<span style=\"font-weight: bold\"> Layer (type)                         </span>┃<span style=\"font-weight: bold\"> Output Shape                </span>┃<span style=\"font-weight: bold\">         Param # </span>┃\n",
              "┡━━━━━━━━━━━━━━━━━━━━━━━━━━━━━━━━━━━━━━╇━━━━━━━━━━━━━━━━━━━━━━━━━━━━━╇━━━━━━━━━━━━━━━━━┩\n",
              "│ resnet50 (<span style=\"color: #0087ff; text-decoration-color: #0087ff\">Functional</span>)                │ (<span style=\"color: #00d7ff; text-decoration-color: #00d7ff\">None</span>, <span style=\"color: #00af00; text-decoration-color: #00af00\">2048</span>)                │      <span style=\"color: #00af00; text-decoration-color: #00af00\">23,587,712</span> │\n",
              "├──────────────────────────────────────┼─────────────────────────────┼─────────────────┤\n",
              "│ flatten (<span style=\"color: #0087ff; text-decoration-color: #0087ff\">Flatten</span>)                    │ (<span style=\"color: #00d7ff; text-decoration-color: #00d7ff\">None</span>, <span style=\"color: #00af00; text-decoration-color: #00af00\">2048</span>)                │               <span style=\"color: #00af00; text-decoration-color: #00af00\">0</span> │\n",
              "├──────────────────────────────────────┼─────────────────────────────┼─────────────────┤\n",
              "│ dense (<span style=\"color: #0087ff; text-decoration-color: #0087ff\">Dense</span>)                        │ (<span style=\"color: #00d7ff; text-decoration-color: #00d7ff\">None</span>, <span style=\"color: #00af00; text-decoration-color: #00af00\">256</span>)                 │         <span style=\"color: #00af00; text-decoration-color: #00af00\">524,544</span> │\n",
              "├──────────────────────────────────────┼─────────────────────────────┼─────────────────┤\n",
              "│ batch_normalization                  │ (<span style=\"color: #00d7ff; text-decoration-color: #00d7ff\">None</span>, <span style=\"color: #00af00; text-decoration-color: #00af00\">256</span>)                 │           <span style=\"color: #00af00; text-decoration-color: #00af00\">1,024</span> │\n",
              "│ (<span style=\"color: #0087ff; text-decoration-color: #0087ff\">BatchNormalization</span>)                 │                             │                 │\n",
              "├──────────────────────────────────────┼─────────────────────────────┼─────────────────┤\n",
              "│ dropout (<span style=\"color: #0087ff; text-decoration-color: #0087ff\">Dropout</span>)                    │ (<span style=\"color: #00d7ff; text-decoration-color: #00d7ff\">None</span>, <span style=\"color: #00af00; text-decoration-color: #00af00\">256</span>)                 │               <span style=\"color: #00af00; text-decoration-color: #00af00\">0</span> │\n",
              "├──────────────────────────────────────┼─────────────────────────────┼─────────────────┤\n",
              "│ dense_1 (<span style=\"color: #0087ff; text-decoration-color: #0087ff\">Dense</span>)                      │ (<span style=\"color: #00d7ff; text-decoration-color: #00d7ff\">None</span>, <span style=\"color: #00af00; text-decoration-color: #00af00\">128</span>)                 │          <span style=\"color: #00af00; text-decoration-color: #00af00\">32,896</span> │\n",
              "├──────────────────────────────────────┼─────────────────────────────┼─────────────────┤\n",
              "│ batch_normalization_1                │ (<span style=\"color: #00d7ff; text-decoration-color: #00d7ff\">None</span>, <span style=\"color: #00af00; text-decoration-color: #00af00\">128</span>)                 │             <span style=\"color: #00af00; text-decoration-color: #00af00\">512</span> │\n",
              "│ (<span style=\"color: #0087ff; text-decoration-color: #0087ff\">BatchNormalization</span>)                 │                             │                 │\n",
              "├──────────────────────────────────────┼─────────────────────────────┼─────────────────┤\n",
              "│ dropout_1 (<span style=\"color: #0087ff; text-decoration-color: #0087ff\">Dropout</span>)                  │ (<span style=\"color: #00d7ff; text-decoration-color: #00d7ff\">None</span>, <span style=\"color: #00af00; text-decoration-color: #00af00\">128</span>)                 │               <span style=\"color: #00af00; text-decoration-color: #00af00\">0</span> │\n",
              "├──────────────────────────────────────┼─────────────────────────────┼─────────────────┤\n",
              "│ dense_2 (<span style=\"color: #0087ff; text-decoration-color: #0087ff\">Dense</span>)                      │ (<span style=\"color: #00d7ff; text-decoration-color: #00d7ff\">None</span>, <span style=\"color: #00af00; text-decoration-color: #00af00\">1</span>)                   │             <span style=\"color: #00af00; text-decoration-color: #00af00\">129</span> │\n",
              "└──────────────────────────────────────┴─────────────────────────────┴─────────────────┘\n",
              "</pre>\n"
            ]
          },
          "metadata": {}
        },
        {
          "output_type": "display_data",
          "data": {
            "text/plain": [
              "\u001b[1m Total params: \u001b[0m\u001b[38;5;34m24,146,817\u001b[0m (92.11 MB)\n"
            ],
            "text/html": [
              "<pre style=\"white-space:pre;overflow-x:auto;line-height:normal;font-family:Menlo,'DejaVu Sans Mono',consolas,'Courier New',monospace\"><span style=\"font-weight: bold\"> Total params: </span><span style=\"color: #00af00; text-decoration-color: #00af00\">24,146,817</span> (92.11 MB)\n",
              "</pre>\n"
            ]
          },
          "metadata": {}
        },
        {
          "output_type": "display_data",
          "data": {
            "text/plain": [
              "\u001b[1m Trainable params: \u001b[0m\u001b[38;5;34m15,008,513\u001b[0m (57.25 MB)\n"
            ],
            "text/html": [
              "<pre style=\"white-space:pre;overflow-x:auto;line-height:normal;font-family:Menlo,'DejaVu Sans Mono',consolas,'Courier New',monospace\"><span style=\"font-weight: bold\"> Trainable params: </span><span style=\"color: #00af00; text-decoration-color: #00af00\">15,008,513</span> (57.25 MB)\n",
              "</pre>\n"
            ]
          },
          "metadata": {}
        },
        {
          "output_type": "display_data",
          "data": {
            "text/plain": [
              "\u001b[1m Non-trainable params: \u001b[0m\u001b[38;5;34m9,138,304\u001b[0m (34.86 MB)\n"
            ],
            "text/html": [
              "<pre style=\"white-space:pre;overflow-x:auto;line-height:normal;font-family:Menlo,'DejaVu Sans Mono',consolas,'Courier New',monospace\"><span style=\"font-weight: bold\"> Non-trainable params: </span><span style=\"color: #00af00; text-decoration-color: #00af00\">9,138,304</span> (34.86 MB)\n",
              "</pre>\n"
            ]
          },
          "metadata": {}
        }
      ],
      "source": [
        "from tensorflow.keras.layers import Dropout, BatchNormalization, Dense, Flatten\n",
        "from tensorflow.keras.regularizers import l2\n",
        "from tensorflow.keras.applications import ResNet50\n",
        "from tensorflow.keras.models import Sequential\n",
        "\n",
        "# Model Definition\n",
        "base_model = ResNet50(include_top=False, pooling='avg', weights='imagenet')\n",
        "\n",
        "# Freeze all layers initially\n",
        "for layer in base_model.layers:\n",
        "    layer.trainable = False\n",
        "\n",
        "    # Define the model architecture\n",
        "model = Sequential([\n",
        "    base_model,  # Add ResNet50 as the base\n",
        "    Flatten(),  # Flatten the output from the base model\n",
        "    Dense(256, activation='relu', kernel_regularizer=l2(0.01)),\n",
        "    BatchNormalization(),\n",
        "    Dropout(0.5),\n",
        "    Dense(128, activation='relu', kernel_regularizer=l2(0.01)),\n",
        "    BatchNormalization(),\n",
        "    Dropout(0.5),\n",
        "    Dense(1, activation='sigmoid')  # Binary classification output\n",
        "])\n",
        "\n",
        "\n",
        "# Unfreeze the last 30 layers of the base model\n",
        "for layer in base_model.layers[-30:]:\n",
        "    layer.trainable = True\n",
        "\n",
        "# Compile the model\n",
        "model.compile(\n",
        "    optimizer=optimizer,\n",
        "    loss=OBJECTIVE_FUNCTION,\n",
        "    metrics=LOSS_METRICS\n",
        ")\n",
        "\n",
        "# Model Summary\n",
        "model.summary()\n",
        "\n"
      ]
    },
    {
      "cell_type": "code",
      "execution_count": 20,
      "metadata": {
        "id": "rQSXFjnZ7MRR"
      },
      "outputs": [],
      "source": [
        "from tensorflow.keras.callbacks import LearningRateScheduler, EarlyStopping, ModelCheckpoint\n",
        "\n",
        "def scheduler(epoch, lr):\n",
        "    if epoch > 15:  # Start reducing after 15 epochs\n",
        "        return lr * 0.5\n",
        "    return lr\n",
        "\n",
        "lr_scheduler = LearningRateScheduler(scheduler)\n",
        "\n",
        "early_stopping = EarlyStopping(\n",
        "    monitor='val_accuracy',\n",
        "    patience=10,\n",
        "    verbose=1,\n",
        "    mode='max',\n",
        "    restore_best_weights=True\n",
        ")\n",
        "\n",
        "# Callbacks\n",
        "checkpoint = ModelCheckpoint(\n",
        "    \"best_model.keras\",\n",
        "    monitor='val_accuracy',\n",
        "    verbose=1,\n",
        "    save_best_only=True,\n",
        "    mode='max'\n",
        ")\n"
      ]
    },
    {
      "cell_type": "code",
      "execution_count": 21,
      "metadata": {
        "id": "i7UjxmCOnlJn"
      },
      "outputs": [],
      "source": [
        "\n",
        "# Replace 'lr' with 'learning_rate'\n",
        "#sgd = SGD(learning_rate=0.01, decay=1e-6, momentum=0.9, nesterov=True)\n",
        "\n",
        "#model.compile(optimizer=sgd, loss=OBJECTIVE_FUNCTION, metrics=LOSS_METRICS)\n"
      ]
    },
    {
      "cell_type": "code",
      "execution_count": 22,
      "metadata": {
        "id": "4Qgt0kN1mD4U"
      },
      "outputs": [],
      "source": [
        "from keras.applications.resnet50 import preprocess_input\n",
        "from tensorflow.keras.preprocessing.image import ImageDataGenerator  # Changed import\n",
        "\n",
        "image_size = IMAGE_RESIZE\n",
        "\n",
        "# ... rest of your code ..."
      ]
    },
    {
      "cell_type": "code",
      "execution_count": 23,
      "metadata": {
        "id": "tNG7RILlmBD7"
      },
      "outputs": [],
      "source": [
        "train_datagen = ImageDataGenerator(\n",
        "    preprocessing_function=tf.keras.applications.resnet50.preprocess_input,\n",
        "    rotation_range=20,         # Reduce rotation range\n",
        "    width_shift_range=0.2,     # Reduce width shift\n",
        "    height_shift_range=0.2,    # Reduce height shift\n",
        "    shear_range=0.2,           # Reduce shear\n",
        "    zoom_range=0.2,            # Reduce zoom\n",
        "    brightness_range=[0.9, 1.1],  # Subtle brightness changes\n",
        "    channel_shift_range=20.0,     # Reduce color jitter\n",
        "    horizontal_flip=True,\n",
        "    fill_mode='nearest',\n",
        "    validation_split=0.2\n",
        ")\n"
      ]
    },
    {
      "cell_type": "code",
      "execution_count": 32,
      "metadata": {
        "colab": {
          "base_uri": "https://localhost:8080/"
        },
        "id": "kCv4fQCXl8py",
        "outputId": "89fab65d-ac81-4dcc-92cf-4600aa0e9dac"
      },
      "outputs": [
        {
          "output_type": "stream",
          "name": "stdout",
          "text": [
            "Found 80032 images belonging to 2 classes.\n"
          ]
        }
      ],
      "source": [
        "train_generator = train_datagen.flow_from_directory(\n",
        "    directory=\"/content/drive/MyDrive/archive/train\",\n",
        "    target_size=(image_size, image_size),\n",
        "    color_mode=\"rgb\",\n",
        "    class_mode=\"binary\",\n",
        "    shuffle=True,\n",
        "    batch_size=BATCH_SIZE_TRAINING,\n",
        "    subset='training'\n",
        ")"
      ]
    },
    {
      "cell_type": "code",
      "execution_count": 33,
      "metadata": {
        "colab": {
          "base_uri": "https://localhost:8080/",
          "height": 543
        },
        "id": "eiFqnUWeivPY",
        "outputId": "5fe3d093-9d99-4e70-b110-8c3794374675"
      },
      "outputs": [
        {
          "output_type": "stream",
          "name": "stdout",
          "text": [
            "Class 0: 40024 samples\n",
            "Class 1: 40008 samples\n"
          ]
        },
        {
          "output_type": "display_data",
          "data": {
            "text/plain": [
              "<Figure size 640x480 with 1 Axes>"
            ],
            "image/png": "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\n"
          },
          "metadata": {}
        },
        {
          "output_type": "stream",
          "name": "stdout",
          "text": [
            "Class 0: 50.01% of the dataset\n",
            "Class 1: 49.99% of the dataset\n"
          ]
        }
      ],
      "source": [
        "# Class counts in the training dataset\n",
        "class_counts = np.unique(train_generator.classes, return_counts=True)\n",
        "\n",
        "# Display the class labels and their respective counts\n",
        "class_labels = class_counts[0]\n",
        "class_sample_counts = class_counts[1]\n",
        "\n",
        "for label, count in zip(class_labels, class_sample_counts):\n",
        "    print(f\"Class {label}: {count} samples\")\n",
        "\n",
        "# Visualize the distribution\n",
        "plt.bar(class_labels, class_sample_counts, tick_label=class_labels)\n",
        "plt.xlabel('Class Labels')\n",
        "plt.ylabel('Number of Samples')\n",
        "plt.title('Class Distribution in Training Data')\n",
        "plt.show()\n",
        "\n",
        "# Optionally calculate the percentage distribution\n",
        "total_samples = sum(class_sample_counts)\n",
        "percent_distribution = [(count / total_samples) * 100 for count in class_sample_counts]\n",
        "for label, percent in zip(class_labels, percent_distribution):\n",
        "    print(f\"Class {label}: {percent:.2f}% of the dataset\")\n"
      ]
    },
    {
      "cell_type": "code",
      "execution_count": 34,
      "metadata": {
        "collapsed": true,
        "id": "y6RYBjqCvQyO"
      },
      "outputs": [],
      "source": [
        "#!unzip \"/content/drive/MyDrive/valid.zip\" -d \"/content/drive/MyDrive/valid\""
      ]
    },
    {
      "cell_type": "code",
      "execution_count": 35,
      "metadata": {
        "colab": {
          "base_uri": "https://localhost:8080/"
        },
        "id": "Scl8yDNDl7_e",
        "outputId": "c050ef03-a206-469f-ab80-1ac9ca806209"
      },
      "outputs": [
        {
          "output_type": "stream",
          "name": "stdout",
          "text": [
            "Found 20008 images belonging to 2 classes.\n"
          ]
        }
      ],
      "source": [
        "valid_generator = train_datagen.flow_from_directory(\n",
        "    directory=\"/content/drive/MyDrive/archive/train\",\n",
        "    target_size=(image_size, image_size),\n",
        "    color_mode=\"rgb\",\n",
        "    class_mode=\"binary\",\n",
        "    shuffle=True,\n",
        "    batch_size=BATCH_SIZE_VALIDATION,\n",
        "    subset='validation'\n",
        ")"
      ]
    },
    {
      "cell_type": "code",
      "source": [],
      "metadata": {
        "id": "tdLLaGPN7xt9"
      },
      "execution_count": 35,
      "outputs": []
    },
    {
      "cell_type": "code",
      "execution_count": 36,
      "metadata": {
        "colab": {
          "base_uri": "https://localhost:8080/"
        },
        "id": "cU66n8fGlD4f",
        "outputId": "3862377a-506e-4775-b02d-059148dddd34"
      },
      "outputs": [
        {
          "output_type": "execute_result",
          "data": {
            "text/plain": [
              "(128, 626, 100, 201)"
            ]
          },
          "metadata": {},
          "execution_count": 36
        }
      ],
      "source": [
        "(BATCH_SIZE_TRAINING, len(train_generator), BATCH_SIZE_VALIDATION, len(valid_generator))"
      ]
    },
    {
      "cell_type": "code",
      "execution_count": 37,
      "metadata": {
        "colab": {
          "base_uri": "https://localhost:8080/"
        },
        "id": "-KvpbQ1UetcZ",
        "outputId": "2b063cb1-ec86-4946-aa5b-6b6d7af36178"
      },
      "outputs": [
        {
          "output_type": "stream",
          "name": "stdout",
          "text": [
            "Collecting sklearn\n",
            "  Using cached sklearn-0.0.post12.tar.gz (2.6 kB)\n",
            "  \u001b[1;31merror\u001b[0m: \u001b[1msubprocess-exited-with-error\u001b[0m\n",
            "  \n",
            "  \u001b[31m×\u001b[0m \u001b[32mpython setup.py egg_info\u001b[0m did not run successfully.\n",
            "  \u001b[31m│\u001b[0m exit code: \u001b[1;36m1\u001b[0m\n",
            "  \u001b[31m╰─>\u001b[0m See above for output.\n",
            "  \n",
            "  \u001b[1;35mnote\u001b[0m: This error originates from a subprocess, and is likely not a problem with pip.\n",
            "  Preparing metadata (setup.py) ... \u001b[?25l\u001b[?25herror\n",
            "\u001b[1;31merror\u001b[0m: \u001b[1mmetadata-generation-failed\u001b[0m\n",
            "\n",
            "\u001b[31m×\u001b[0m Encountered error while generating package metadata.\n",
            "\u001b[31m╰─>\u001b[0m See above for output.\n",
            "\n",
            "\u001b[1;35mnote\u001b[0m: This is an issue with the package mentioned above, not pip.\n",
            "\u001b[1;36mhint\u001b[0m: See above for details.\n"
          ]
        }
      ],
      "source": [
        "!pip install sklearn\n"
      ]
    },
    {
      "cell_type": "code",
      "execution_count": 38,
      "metadata": {
        "id": "gpF6_FeoO4MW"
      },
      "outputs": [],
      "source": [
        "class MyDataset(tf.keras.utils.PyDataset):\n",
        "    def __init__(self, data, labels, **kwargs):\n",
        "        super().__init__(**kwargs)\n",
        "        self.data = data\n",
        "        self.labels = labels\n",
        "    # Implement __getitem__ and __len__ methods\n"
      ]
    },
    {
      "cell_type": "code",
      "execution_count": 39,
      "metadata": {
        "colab": {
          "base_uri": "https://localhost:8080/"
        },
        "id": "qpKHokCMO98U",
        "outputId": "9603fbe5-6e4d-4262-d963-fa4e72fc505d"
      },
      "outputs": [
        {
          "output_type": "stream",
          "name": "stdout",
          "text": [
            "Epoch 1/12\n"
          ]
        },
        {
          "output_type": "stream",
          "name": "stderr",
          "text": [
            "/usr/local/lib/python3.11/dist-packages/keras/src/trainers/data_adapters/py_dataset_adapter.py:122: UserWarning: Your `PyDataset` class should call `super().__init__(**kwargs)` in its constructor. `**kwargs` can include `workers`, `use_multiprocessing`, `max_queue_size`. Do not pass these arguments to `fit()`, as they will be ignored.\n",
            "  self._warn_if_super_not_called()\n"
          ]
        },
        {
          "output_type": "stream",
          "name": "stdout",
          "text": [
            "\u001b[1m626/626\u001b[0m \u001b[32m━━━━━━━━━━━━━━━━━━━━\u001b[0m\u001b[37m\u001b[0m \u001b[1m0s\u001b[0m 61s/step - accuracy: 0.7988 - loss: 6.2671  \n",
            "Epoch 1: val_accuracy improved from -inf to 0.93543, saving model to best_model.keras\n",
            "\u001b[1m626/626\u001b[0m \u001b[32m━━━━━━━━━━━━━━━━━━━━\u001b[0m\u001b[37m\u001b[0m \u001b[1m48044s\u001b[0m 76s/step - accuracy: 0.7989 - loss: 6.2661 - val_accuracy: 0.9354 - val_loss: 4.5407\n",
            "Epoch 2/12\n",
            "\u001b[1m626/626\u001b[0m \u001b[32m━━━━━━━━━━━━━━━━━━━━\u001b[0m\u001b[37m\u001b[0m \u001b[1m0s\u001b[0m 3s/step - accuracy: 0.9260 - loss: 4.1131\n",
            "Epoch 2: val_accuracy improved from 0.93543 to 0.94617, saving model to best_model.keras\n",
            "\u001b[1m626/626\u001b[0m \u001b[32m━━━━━━━━━━━━━━━━━━━━\u001b[0m\u001b[37m\u001b[0m \u001b[1m2033s\u001b[0m 3s/step - accuracy: 0.9260 - loss: 4.1124 - val_accuracy: 0.9462 - val_loss: 2.8637\n",
            "Epoch 3/12\n",
            "\u001b[1m626/626\u001b[0m \u001b[32m━━━━━━━━━━━━━━━━━━━━\u001b[0m\u001b[37m\u001b[0m \u001b[1m0s\u001b[0m 3s/step - accuracy: 0.9412 - loss: 2.5717\n",
            "Epoch 3: val_accuracy improved from 0.94617 to 0.95437, saving model to best_model.keras\n",
            "\u001b[1m626/626\u001b[0m \u001b[32m━━━━━━━━━━━━━━━━━━━━\u001b[0m\u001b[37m\u001b[0m \u001b[1m2021s\u001b[0m 3s/step - accuracy: 0.9412 - loss: 2.5712 - val_accuracy: 0.9544 - val_loss: 1.7668\n",
            "Epoch 4/12\n",
            "\u001b[1m626/626\u001b[0m \u001b[32m━━━━━━━━━━━━━━━━━━━━\u001b[0m\u001b[37m\u001b[0m \u001b[1m0s\u001b[0m 3s/step - accuracy: 0.9484 - loss: 1.6002\n",
            "Epoch 4: val_accuracy improved from 0.95437 to 0.95757, saving model to best_model.keras\n",
            "\u001b[1m626/626\u001b[0m \u001b[32m━━━━━━━━━━━━━━━━━━━━\u001b[0m\u001b[37m\u001b[0m \u001b[1m2015s\u001b[0m 3s/step - accuracy: 0.9484 - loss: 1.5999 - val_accuracy: 0.9576 - val_loss: 1.1256\n",
            "Epoch 5/12\n",
            "\u001b[1m626/626\u001b[0m \u001b[32m━━━━━━━━━━━━━━━━━━━━\u001b[0m\u001b[37m\u001b[0m \u001b[1m0s\u001b[0m 3s/step - accuracy: 0.9553 - loss: 1.0321\n",
            "Epoch 5: val_accuracy improved from 0.95757 to 0.95872, saving model to best_model.keras\n",
            "\u001b[1m626/626\u001b[0m \u001b[32m━━━━━━━━━━━━━━━━━━━━\u001b[0m\u001b[37m\u001b[0m \u001b[1m2018s\u001b[0m 3s/step - accuracy: 0.9553 - loss: 1.0319 - val_accuracy: 0.9587 - val_loss: 0.7734\n",
            "Epoch 6/12\n",
            "\u001b[1m626/626\u001b[0m \u001b[32m━━━━━━━━━━━━━━━━━━━━\u001b[0m\u001b[37m\u001b[0m \u001b[1m0s\u001b[0m 3s/step - accuracy: 0.9572 - loss: 0.7189\n",
            "Epoch 6: val_accuracy improved from 0.95872 to 0.96281, saving model to best_model.keras\n",
            "\u001b[1m626/626\u001b[0m \u001b[32m━━━━━━━━━━━━━━━━━━━━\u001b[0m\u001b[37m\u001b[0m \u001b[1m2020s\u001b[0m 3s/step - accuracy: 0.9572 - loss: 0.7189 - val_accuracy: 0.9628 - val_loss: 0.5693\n",
            "Epoch 7/12\n",
            "\u001b[1m626/626\u001b[0m \u001b[32m━━━━━━━━━━━━━━━━━━━━\u001b[0m\u001b[37m\u001b[0m \u001b[1m0s\u001b[0m 3s/step - accuracy: 0.9641 - loss: 0.5324\n",
            "Epoch 7: val_accuracy improved from 0.96281 to 0.96446, saving model to best_model.keras\n",
            "\u001b[1m626/626\u001b[0m \u001b[32m━━━━━━━━━━━━━━━━━━━━\u001b[0m\u001b[37m\u001b[0m \u001b[1m2014s\u001b[0m 3s/step - accuracy: 0.9641 - loss: 0.5323 - val_accuracy: 0.9645 - val_loss: 0.4514\n",
            "Epoch 8/12\n",
            "\u001b[1m626/626\u001b[0m \u001b[32m━━━━━━━━━━━━━━━━━━━━\u001b[0m\u001b[37m\u001b[0m \u001b[1m0s\u001b[0m 3s/step - accuracy: 0.9672 - loss: 0.4258\n",
            "Epoch 8: val_accuracy improved from 0.96446 to 0.96761, saving model to best_model.keras\n",
            "\u001b[1m626/626\u001b[0m \u001b[32m━━━━━━━━━━━━━━━━━━━━\u001b[0m\u001b[37m\u001b[0m \u001b[1m2018s\u001b[0m 3s/step - accuracy: 0.9672 - loss: 0.4258 - val_accuracy: 0.9676 - val_loss: 0.3819\n",
            "Epoch 9/12\n",
            "\u001b[1m626/626\u001b[0m \u001b[32m━━━━━━━━━━━━━━━━━━━━\u001b[0m\u001b[37m\u001b[0m \u001b[1m0s\u001b[0m 3s/step - accuracy: 0.9685 - loss: 0.3622\n",
            "Epoch 9: val_accuracy did not improve from 0.96761\n",
            "\u001b[1m626/626\u001b[0m \u001b[32m━━━━━━━━━━━━━━━━━━━━\u001b[0m\u001b[37m\u001b[0m \u001b[1m2010s\u001b[0m 3s/step - accuracy: 0.9685 - loss: 0.3622 - val_accuracy: 0.9670 - val_loss: 0.3420\n",
            "Epoch 10/12\n",
            "\u001b[1m626/626\u001b[0m \u001b[32m━━━━━━━━━━━━━━━━━━━━\u001b[0m\u001b[37m\u001b[0m \u001b[1m0s\u001b[0m 3s/step - accuracy: 0.9727 - loss: 0.3181\n",
            "Epoch 10: val_accuracy did not improve from 0.96761\n",
            "\u001b[1m626/626\u001b[0m \u001b[32m━━━━━━━━━━━━━━━━━━━━\u001b[0m\u001b[37m\u001b[0m \u001b[1m2007s\u001b[0m 3s/step - accuracy: 0.9727 - loss: 0.3180 - val_accuracy: 0.9669 - val_loss: 0.3186\n",
            "Epoch 11/12\n",
            "\u001b[1m626/626\u001b[0m \u001b[32m━━━━━━━━━━━━━━━━━━━━\u001b[0m\u001b[37m\u001b[0m \u001b[1m0s\u001b[0m 3s/step - accuracy: 0.9731 - loss: 0.2961\n",
            "Epoch 11: val_accuracy improved from 0.96761 to 0.97001, saving model to best_model.keras\n",
            "\u001b[1m626/626\u001b[0m \u001b[32m━━━━━━━━━━━━━━━━━━━━\u001b[0m\u001b[37m\u001b[0m \u001b[1m2012s\u001b[0m 3s/step - accuracy: 0.9731 - loss: 0.2960 - val_accuracy: 0.9700 - val_loss: 0.2994\n",
            "Epoch 12/12\n",
            "\u001b[1m626/626\u001b[0m \u001b[32m━━━━━━━━━━━━━━━━━━━━\u001b[0m\u001b[37m\u001b[0m \u001b[1m0s\u001b[0m 3s/step - accuracy: 0.9757 - loss: 0.2765\n",
            "Epoch 12: val_accuracy improved from 0.97001 to 0.97016, saving model to best_model.keras\n",
            "\u001b[1m626/626\u001b[0m \u001b[32m━━━━━━━━━━━━━━━━━━━━\u001b[0m\u001b[37m\u001b[0m \u001b[1m2026s\u001b[0m 3s/step - accuracy: 0.9757 - loss: 0.2765 - val_accuracy: 0.9702 - val_loss: 0.2831\n",
            "Restoring model weights from the end of the best epoch: 12.\n"
          ]
        },
        {
          "output_type": "stream",
          "name": "stderr",
          "text": [
            "WARNING:absl:You are saving your model as an HDF5 file via `model.save()` or `keras.saving.save_model(model)`. This file format is considered legacy. We recommend using instead the native Keras format, e.g. `model.save('my_model.keras')` or `keras.saving.save_model(model, 'my_model.keras')`. \n"
          ]
        }
      ],
      "source": [
        "\n",
        "# Model Training\n",
        "fit_history = model.fit(\n",
        "    train_generator,\n",
        "    epochs=NUM_EPOCHS,\n",
        "    validation_data=valid_generator,\n",
        "    callbacks=[checkpoint, early_stopping]\n",
        ")\n",
        "\n",
        "\n",
        "# Save the final model\n",
        "model.save(\"best_model.h5\")"
      ]
    },
    {
      "cell_type": "code",
      "execution_count": 40,
      "metadata": {
        "id": "KJ1zUz8HjqaG",
        "colab": {
          "base_uri": "https://localhost:8080/"
        },
        "outputId": "cb758b93-c425-4062-995a-d2321b8aa6b1"
      },
      "outputs": [
        {
          "output_type": "stream",
          "name": "stdout",
          "text": [
            "dict_keys(['accuracy', 'loss', 'val_accuracy', 'val_loss'])\n"
          ]
        }
      ],
      "source": [
        "print(fit_history.history.keys())"
      ]
    },
    {
      "cell_type": "code",
      "execution_count": 41,
      "metadata": {
        "id": "5WKcUbVGjyMm",
        "colab": {
          "base_uri": "https://localhost:8080/",
          "height": 847
        },
        "outputId": "17d9ea19-e242-4c04-af0d-e85bdf39d93f"
      },
      "outputs": [
        {
          "output_type": "display_data",
          "data": {
            "text/plain": [
              "<Figure size 640x480 with 1 Axes>"
            ],
            "image/png": "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\n"
          },
          "metadata": {}
        },
        {
          "output_type": "display_data",
          "data": {
            "text/plain": [
              "<Figure size 640x480 with 1 Axes>"
            ],
            "image/png": "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\n"
          },
          "metadata": {}
        }
      ],
      "source": [
        "import matplotlib.pyplot as plt\n",
        "\n",
        "plt.plot(fit_history.history['accuracy'], label='Train Accuracy')\n",
        "plt.plot(fit_history.history['val_accuracy'], label='Validation Accuracy')\n",
        "plt.legend()\n",
        "plt.show()\n",
        "\n",
        "plt.plot(fit_history.history['loss'], label='Train Loss')\n",
        "plt.plot(fit_history.history['val_loss'], label='Validation Loss')\n",
        "plt.legend()\n",
        "plt.show()\n"
      ]
    },
    {
      "cell_type": "code",
      "execution_count": 42,
      "metadata": {
        "id": "mnG03Yntj_sq",
        "colab": {
          "base_uri": "https://localhost:8080/"
        },
        "outputId": "9eff3f80-cd4b-4815-ea9b-f2d091c0c5c2"
      },
      "outputs": [
        {
          "output_type": "stream",
          "name": "stdout",
          "text": [
            "best_model.h5  best_model.keras  \u001b[0m\u001b[01;34mdrive\u001b[0m/  \u001b[01;34msample_data\u001b[0m/\n"
          ]
        }
      ],
      "source": [
        "ls"
      ]
    },
    {
      "cell_type": "code",
      "execution_count": 43,
      "metadata": {
        "id": "ng4jBUy9vtJd",
        "colab": {
          "base_uri": "https://localhost:8080/"
        },
        "outputId": "7c8c9ca9-2d18-4a1a-eee8-d4279ff23615"
      },
      "outputs": [
        {
          "output_type": "stream",
          "name": "stdout",
          "text": [
            "Found 20030 images belonging to 2 classes.\n"
          ]
        }
      ],
      "source": [
        "test_datagen = ImageDataGenerator(\n",
        "    preprocessing_function=tf.keras.applications.resnet50.preprocess_input,\n",
        "    rotation_range=10,\n",
        "    zoom_range=0.1,\n",
        "    horizontal_flip=True\n",
        ")\n",
        "\n",
        "\n",
        "test_generator = test_datagen.flow_from_directory(\n",
        "    directory=\"/content/drive/MyDrive/archive/test\",\n",
        "    target_size=(image_size, image_size),\n",
        "    color_mode=\"rgb\",\n",
        "    batch_size=BATCH_SIZE_TESTING,\n",
        "    class_mode=None,\n",
        "    shuffle=False\n",
        ")"
      ]
    },
    {
      "cell_type": "code",
      "execution_count": 44,
      "metadata": {
        "id": "oxFW9TNjvuZu",
        "colab": {
          "base_uri": "https://localhost:8080/"
        },
        "outputId": "a0a8553a-9f20-4b63-b599-4e4f96a67afa"
      },
      "outputs": [
        {
          "output_type": "stream",
          "name": "stdout",
          "text": [
            "best_model.h5  best_model.keras  \u001b[0m\u001b[01;34mdrive\u001b[0m/  \u001b[01;34msample_data\u001b[0m/\n"
          ]
        }
      ],
      "source": [
        "ls"
      ]
    },
    {
      "cell_type": "code",
      "execution_count": null,
      "metadata": {
        "id": "s_19lh7akAf2",
        "colab": {
          "base_uri": "https://localhost:8080/"
        },
        "outputId": "44e31c89-d32c-4c01-b3e0-11d24b22eea7"
      },
      "outputs": [
        {
          "output_type": "stream",
          "name": "stdout",
          "text": [
            "\u001b[1m16131/20030\u001b[0m \u001b[32m━━━━━━━━━━━━━━━━\u001b[0m\u001b[37m━━━━\u001b[0m \u001b[1m13:54\u001b[0m 214ms/step"
          ]
        }
      ],
      "source": [
        "test_generator.reset()\n",
        "\n",
        "# Replace 'predict_generator' with 'predict'\n",
        "pred = model.predict(test_generator, steps=len(test_generator), verbose=1)\n",
        "\n",
        "predicted_class_indices = np.argmax(pred, axis=1)"
      ]
    },
    {
      "cell_type": "code",
      "execution_count": null,
      "metadata": {
        "id": "zanmasO3_GsZ"
      },
      "outputs": [],
      "source": [
        "predicted_class_indices = (pred > 0.5).astype(int)  # Threshold for binary classification\n",
        "true_class_indices = test_generator.classes\n",
        "\n",
        "# Calculate accuracy\n",
        "accuracy = np.sum(predicted_class_indices.flatten() == true_class_indices) / len(true_class_indices) * 100\n",
        "print(f\"Test Accuracy: {accuracy:.2f}%\")\n"
      ]
    },
    {
      "cell_type": "code",
      "execution_count": null,
      "metadata": {
        "id": "yGhUdxTgRJLS"
      },
      "outputs": [],
      "source": [
        "from sklearn.metrics import classification_report, accuracy_score\n",
        "\n",
        "# Generate predictions on the test set\n",
        "test_generator.reset()\n",
        "predictions = model.predict(test_generator, steps=len(test_generator), verbose=1)\n",
        "\n",
        "# Convert predictions to binary (threshold at 0.5 for sigmoid output)\n",
        "predicted_classes = (predictions > 0.5).astype(int).flatten()\n",
        "\n",
        "# True classes from the generator\n",
        "true_classes = test_generator.classes\n",
        "\n",
        "# Ensure the shapes match\n",
        "assert len(predicted_classes) == len(true_classes), \"Mismatch in number of predictions and true labels\"\n",
        "\n",
        "# Calculate accuracy manually\n",
        "accuracy = np.sum(predicted_classes == true_classes) / len(true_classes) * 100\n",
        "print(f\"Manual Test Accuracy: {accuracy:.2f}%\")\n",
        "\n",
        "# Use sklearn's accuracy and classification report for verification\n",
        "sklearn_accuracy = accuracy_score(true_classes, predicted_classes) * 100\n",
        "print(f\"Sklearn Test Accuracy: {sklearn_accuracy:.2f}%\")\n",
        "\n",
        "# Generate classification report\n",
        "class_labels = list(test_generator.class_indices.keys())\n",
        "report = classification_report(true_classes, predicted_classes, target_names=class_labels)\n",
        "print(\"Classification Report:\\n\", report)\n"
      ]
    },
    {
      "cell_type": "code",
      "execution_count": null,
      "metadata": {
        "id": "dTsEyooMU2-U"
      },
      "outputs": [],
      "source": [
        "# Convert predictions to binary labels\n",
        "predicted_class_indices = (pred > 0.5).astype(int).flatten()\n",
        "true_class_indices = test_generator.classes\n",
        "\n",
        "# Evaluate Metrics\n",
        "from sklearn.metrics import classification_report, accuracy_score\n",
        "print(\"Test Accuracy:\", accuracy_score(true_class_indices, predicted_class_indices))\n",
        "print(\"Classification Report:\")\n",
        "print(classification_report(true_class_indices, predicted_class_indices))"
      ]
    },
    {
      "cell_type": "code",
      "execution_count": null,
      "metadata": {
        "id": "bzdfZgXwDW8T"
      },
      "outputs": [],
      "source": [
        "# prompt: now let's test this specific image \"/content/drive/MyDrive/archive/test/FAKE/0.jpg\" to see if the model is predicting accurately\n",
        "\n",
        "from tensorflow.keras.preprocessing import image\n",
        "import numpy as np\n",
        "\n",
        "img_path = \"/content/drive/MyDrive/archive/test/FAKE/0.jpg\"\n",
        "img = image.load_img(img_path, target_size=(IMAGE_RESIZE, IMAGE_RESIZE))\n",
        "x = image.img_to_array(img)\n",
        "x = np.expand_dims(x, axis=0)\n",
        "x = preprocess_input(x)\n",
        "\n",
        "preds = model.predict(x)\n",
        "print(preds)\n",
        "\n",
        "# Interpret the prediction (assuming sigmoid activation)\n",
        "predicted_class = (preds > 0.5).astype(int).flatten()[0]\n",
        "print(f\"Predicted class: {predicted_class}\") # 0 for FAKE and 1 for REAL in this case"
      ]
    },
    {
      "cell_type": "code",
      "execution_count": null,
      "metadata": {
        "id": "jKNpX8DuEJ1b"
      },
      "outputs": [],
      "source": []
    }
  ],
  "metadata": {
    "accelerator": "TPU",
    "colab": {
      "gpuType": "V5E1",
      "machine_shape": "hm",
      "provenance": []
    },
    "kernelspec": {
      "display_name": "Python 3",
      "name": "python3"
    },
    "language_info": {
      "name": "python"
    }
  },
  "nbformat": 4,
  "nbformat_minor": 0
}
